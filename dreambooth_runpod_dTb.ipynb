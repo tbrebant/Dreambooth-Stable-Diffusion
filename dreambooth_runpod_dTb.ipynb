{
 "cells": [
  {
   "cell_type": "markdown",
   "id": "7b971cc0",
   "metadata": {
    "id": "7b971cc0"
   },
   "source": [
    "## Build Environment"
   ]
  },
  {
   "cell_type": "code",
   "execution_count": null,
   "id": "9e1bc458-091b-42f4-a125-c3f0df20f29d",
   "metadata": {
    "id": "9e1bc458-091b-42f4-a125-c3f0df20f29d",
    "scrolled": true
   },
   "outputs": [],
   "source": [
    "# BUILD ENV\n",
    "!pip install omegaconf\n",
    "!pip install einops\n",
    "!pip install pytorch-lightning==1.6.5\n",
    "!pip install test-tube\n",
    "!pip install transformers\n",
    "!pip install kornia\n",
    "!pip install -e git+https://github.com/CompVis/taming-transformers.git@master#egg=taming-transformers\n",
    "!pip install -e git+https://github.com/openai/CLIP.git@main#egg=clip\n",
    "!pip install setuptools==59.5.0\n",
    "!pip install pillow==9.0.1\n",
    "!pip install torchmetrics==0.6.0\n",
    "!pip install -e .\n",
    "!pip install protobuf==3.20.1\n",
    "!pip install gdown\n",
    "!pip install -qq diffusers[\"training\"]==0.3.0 transformers ftfy\n",
    "!pip install -qq \"ipywidgets>=7,<8\"\n",
    "!pip install huggingface_hub\n",
    "!pip install ipywidgets==7.7.1\n",
    "!pip install captionizer==1.0.1\n",
    "\n",
    "!pip install --upgrade protobuf==3.20.0\n",
    "!pip install tensorboard\n",
    "%pip install gdown\n"
   ]
  },
  {
   "cell_type": "markdown",
   "id": "7b971cc0",
   "metadata": {
    "id": "7b971cc0"
   },
   "source": [
    "## Dataset"
   ]
  },
  {
   "cell_type": "code",
   "execution_count": 1,
   "id": "e7EydXCjOV1v",
   "metadata": {
    "id": "e7EydXCjOV1v"
   },
   "outputs": [],
   "source": [
    "dataset=\"person\"\n"
   ]
  },
  {
   "cell_type": "markdown",
   "id": "7b971cc0",
   "metadata": {
    "id": "7b971cc0"
   },
   "source": [
    "## Download Model\n",
    "To rename to `model.ckpt`.\n"
   ]
  },
  {
   "cell_type": "code",
   "execution_count": null,
   "id": "dae11c10",
   "metadata": {
    "id": "dae11c10"
   },
   "outputs": [],
   "source": [
    "# 1.5 Model 7Gb\n",
    "# !gdown https://drive.google.com/uc?id=1LvIDeU4g3hjn1sxHiD7KSKA11UNafnLR\n"
   ]
  },
  {
   "cell_type": "markdown",
   "id": "7b971cc0",
   "metadata": {
    "id": "7b971cc0"
   },
   "source": [
    "## Download Regularisation images\n",
    "To put in `regularization_images/{dataset}`\n"
   ]
  },
  {
   "cell_type": "code",
   "execution_count": null,
   "id": "dae11c10",
   "metadata": {
    "id": "dae11c10"
   },
   "outputs": [],
   "source": [
    "# Regularisation: creature\n",
    "# !gdown https://drive.google.com/uc?id=1-XDTDCxN4HLYkcKPIY2G15M_fOISy4yU\n",
    "\n",
    "# Regularisation: person\n",
    "# !gdown https://drive.google.com/uc?id=1vVp9xHmUMXVxP7lNKw4QR2mpCq3C7Ts6\n",
    "\n",
    "# Download Regularization Images (person_ddim is recommended)\n",
    "# dataset=\"person_ddim\" #@param [\"man_euler\", \"man_unsplash\", \"person_ddim\", \"woman_ddim\", \"blonde_woman\"]\n",
    "# !git clone https://github.com/djbielejeski/Stable-Diffusion-Regularization-Images-{dataset}.git\n",
    "# !mkdir -p regularization_images/{dataset}\n",
    "# !mv -v Stable-Diffusion-Regularization-Images-{dataset}/{dataset}/*.* regularization_images/{dataset}"
   ]
  },

  {
   "cell_type": "markdown",
   "source": [
    "# Upload your training images\n",
    "Upload 10-20 images of someone to\n",
    "\n",
    "```\n",
    "/workspace/Dreambooth-Stable-Diffusion/training_images\n",
    "```\n",
    "\n",
    "WARNING: Be sure to upload an *even* amount of images, otherwise the training inexplicably stops at 1500 steps.\n",
    "\n",
    "*   2-3 full body\n",
    "*   3-5 upper body\n",
    "*   5-12 close-up on face\n",
    "\n",
    "The images should be:\n",
    "\n",
    "- as close as possible to the kind of images you're trying to make"
   ],
   "metadata": {
    "collapsed": false
   }
  },
  {
   "cell_type": "code",
   "execution_count": null,
   "outputs": [],
   "source": [
    "#@markdown Add here the URLs to the images of the subject you are adding\n",
    "urls = [\n",
    " \"https://docteeboh.net/tmp/01.png\",\n",
    " \"https://docteeboh.net/tmp/02.png\",\n",
    " \"https://docteeboh.net/tmp/03.png\",\n",
    " \"https://docteeboh.net/tmp/04.png\",\n",
    " \"https://docteeboh.net/tmp/05.png\",\n",
    " \"https://docteeboh.net/tmp/06.png\",\n",
    " \"https://docteeboh.net/tmp/07.png\",\n",
    " \"https://docteeboh.net/tmp/08.png\",\n",
    " \"https://docteeboh.net/tmp/09.png\",\n",
    " \"https://docteeboh.net/tmp/10.png\",\n",
    " \"https://docteeboh.net/tmp/11.png\",\n",
    " \"https://docteeboh.net/tmp/12.png\",\n",
    " \"https://docteeboh.net/tmp/13.png\",\n",
    " \"https://docteeboh.net/tmp/14.png\",\n",
    " \"https://docteeboh.net/tmp/15.png\",\n",
    " \"https://docteeboh.net/tmp/16.png\",\n",
    " \"https://docteeboh.net/tmp/17.png\",\n",
    " \"https://docteeboh.net/tmp/18.png\",\n",
    " \"https://docteeboh.net/tmp/19.png\",\n",
    " \"https://docteeboh.net/tmp/20.png\",\n",
    " \"https://docteeboh.net/tmp/21.png\",\n",
    " \"https://docteeboh.net/tmp/22.png\",\n",
    " \"https://docteeboh.net/tmp/23.png\",\n",
    " \"https://docteeboh.net/tmp/24.png\",\n",
    " \"https://docteeboh.net/tmp/25.png\",\n",
    " \"https://docteeboh.net/tmp/26.png\",\n",
    " \"https://docteeboh.net/tmp/27.png\",\n",
    " \"https://docteeboh.net/tmp/28.png\",\n",
    " \"https://docteeboh.net/tmp/29.png\",\n",
    " \"https://docteeboh.net/tmp/30.png\",\n",
    " \"https://docteeboh.net/tmp/31.png\",\n",
    " \"https://docteeboh.net/tmp/32.png\",\n",
    " \"https://docteeboh.net/tmp/33.png\",\n",
    " \"https://docteeboh.net/tmp/34.png\",\n",
    " \"https://docteeboh.net/tmp/35.png\",\n",
    " \"https://docteeboh.net/tmp/36.png\",\n",
    " \"https://docteeboh.net/tmp/37.png\",\n",
    " \"https://docteeboh.net/tmp/38.png\",\n",
    " \"https://docteeboh.net/tmp/39.png\",\n",
    " \"https://docteeboh.net/tmp/40.png\",\n",
    " \"https://docteeboh.net/tmp/41.png\",\n",
    " \"https://docteeboh.net/tmp/42.png\",\n",
    " \"https://docteeboh.net/tmp/43.png\",\n",
    " \"https://docteeboh.net/tmp/44.png\",\n",
    " \"https://docteeboh.net/tmp/45.png\",\n",
    " \"https://docteeboh.net/tmp/46.png\",\n",
    " \"https://docteeboh.net/tmp/47.png\",\n",
    " \"https://docteeboh.net/tmp/48.png\",\n",
    " \"https://docteeboh.net/tmp/49.png\",\n",
    " \"https://docteeboh.net/tmp/50.png\",\n",
    " \"https://docteeboh.net/tmp/51.png\",\n",
    " \"https://docteeboh.net/tmp/52.png\",\n",
    " \"https://docteeboh.net/tmp/53.png\",\n",
    " \"https://docteeboh.net/tmp/54.png\",\n",
    " \"https://docteeboh.net/tmp/55.png\",\n",
    " \"https://docteeboh.net/tmp/56.png\",\n",
    " \"https://docteeboh.net/tmp/57.png\",\n",
    " \"https://docteeboh.net/tmp/58.png\",\n",
    " \"https://docteeboh.net/tmp/59.png\",\n",
    " \"https://docteeboh.net/tmp/60.png\",\n",
    " \"https://docteeboh.net/tmp/61.png\",\n",
    " # You can add additional images here -- about 20-30 images in different\n",
    "]"
   ],
   "metadata": {
    "collapsed": false
   }
  },
  {
   "cell_type": "code",
   "execution_count": null,
   "metadata": {
    "collapsed": false
   },
   "outputs": [],
   "source": [
    "#@title Download and check the images you have just added\n",
    "import os\n",
    "import requests\n",
    "from io import BytesIO\n",
    "from PIL import Image\n",
    "\n",
    "\n",
    "def image_grid(imgs, rows, cols):\n",
    " assert len(imgs) == rows*cols\n",
    "\n",
    " w, h = imgs[0].size\n",
    " grid = Image.new('RGB', size=(cols*w, rows*h))\n",
    " grid_w, grid_h = grid.size\n",
    "\n",
    " for i, img in enumerate(imgs):\n",
    "  grid.paste(img, box=(i%cols*w, i//cols*h))\n",
    " return grid\n",
    "\n",
    "def download_image(url):\n",
    " try:\n",
    "  response = requests.get(url)\n",
    " except:\n",
    "  return None\n",
    " return Image.open(BytesIO(response.content)).convert(\"RGB\")\n",
    "\n",
    "images = list(filter(None,[download_image(url) for url in urls]))\n",
    "save_path = \"./training_images\"\n",
    "if not os.path.exists(save_path):\n",
    " os.mkdir(save_path)\n",
    "[image.save(f\"{save_path}/{i}.png\", format=\"png\") for i, image in enumerate(images)]\n",
    "image_grid(images, 1, len(images))"
   ]
  },
  {
   "cell_type": "markdown",
   "id": "ad4e50df",
   "metadata": {
    "id": "ad4e50df"
   },
   "source": [
    "## Training\n",
    "\n",
    "If training a person or subject, keep an eye on your project's `logs/{folder}/images/train/samples_scaled_gs-00xxxx` generations.\n",
    "\n",
    "If training a style, keep an eye on your project's `logs/{folder}/images/train/samples_gs-00xxxx` generations."
   ]
  },
  {
   "cell_type": "code",
   "execution_count": null,
   "id": "6fa5dd66-2ca0-4819-907e-802e25583ae6",
   "metadata": {
    "id": "6fa5dd66-2ca0-4819-907e-802e25583ae6",
    "tags": []
   },
   "outputs": [],
   "source": [
    "# Training\n",
    "\n",
    "# This isn't used for training, just to help you remember what your trained into the model.\n",
    "project_name = \"project_name\"\n",
    "\n",
    "# MAX STEPS\n",
    "# How many steps do you want to train for?\n",
    "max_training_steps = 2000\n",
    "\n",
    "# Match class_word to the category of the regularization images you chose above.\n",
    "class_word = \"person\" # typical uses are \"man\", \"person\", \"woman\"\n",
    "\n",
    "# This is the unique token you are incorporating into the stable diffusion model.\n",
    "token = \"firstNameLastName\"\n",
    "\n",
    "\n",
    "reg_data_root = \"/workspace/Dreambooth-Stable-Diffusion/regularization_images/\" + dataset\n",
    "\n",
    "!rm -rf training_images/.ipynb_checkpoints\n",
    "!python \"main.py\" \\\n",
    " --base configs/stable-diffusion/v1-finetune_unfrozen.yaml \\\n",
    " -t \\\n",
    " --actual_resume \"model.ckpt\" \\\n",
    " --reg_data_root \"{reg_data_root}\" \\\n",
    " -n \"{project_name}\" \\\n",
    " --gpus 0, \\\n",
    " --data_root \"/workspace/Dreambooth-Stable-Diffusion/training_images\" \\\n",
    " --max_training_steps {max_training_steps} \\\n",
    " --class_word \"{class_word}\" \\\n",
    " --token \"{token}\" \\\n",
    " --no-test"
   ]
  },
  {
   "cell_type": "markdown",
   "id": "dc49d0bd",
   "metadata": {},
   "source": [
    "## Copy and name the checkpoint file"
   ]
  },
  {
   "cell_type": "code",
   "execution_count": null,
   "metadata": {
    "collapsed": false
   },
   "outputs": [],
   "source": [
    "# Copy the checkpoint into our `trained_models` folder\n",
    "\n",
    "directory_paths = !ls -d logs/*\n",
    "last_checkpoint_file = directory_paths[-1] + \"/checkpoints/last.ckpt\"\n",
    "training_images = !find training_images/*\n",
    "date_string = !date +\"%Y-%m-%dT%H-%M-%S\"\n",
    "file_name = date_string[-1] + \"_\" + project_name + \"_\" + str(len(training_images)) + \"_training_images_\" +  str(max_training_steps) + \"_max_training_steps_\" + token + \"_token_\" + class_word + \"_class_word.ckpt\"\n",
    "\n",
    "file_name = file_name.replace(\" \", \"_\")\n",
    "\n",
    "!mkdir -p trained_models\n",
    "!mv \"{last_checkpoint_file}\" \"trained_models/{file_name}\"\n",
    "\n",
    "print(\"Download your trained model file from trained_models/\" + file_name + \" and use in your favorite Stable Diffusion repo!\")"
   ]
  },
  {
   "cell_type": "markdown",
   "source": [
    "# Optional - Upload to google drive\n",
    "* run the following commands in a new `terminal` in the `Dreambooth-Stable-Diffusion` directory\n",
    "* `chmod +x ./gdrive`\n",
    "* `./gdrive about`\n",
    "* `paste your token here after navigating to the link`\n",
    "* `./gdrive upload trained_models/{file_name.ckpt}`"
   ],
   "metadata": {
    "collapsed": false
   }
  },
  {
   "cell_type": "markdown",
   "id": "9a90ac5c",
   "metadata": {},
   "source": [
    "# Big Important Note!\n",
    "\n",
    "The way to use your token is `<token> <class>` ie `joepenna person` and not just `joepenna`"
   ]
  },
  {
   "cell_type": "markdown",
   "id": "d28d0139",
   "metadata": {},
   "source": [
    "## Generate Images With Your Trained Model!"
   ]
  },
  {
   "cell_type": "code",
   "execution_count": null,
   "id": "80ddb03b",
   "metadata": {},
   "outputs": [],
   "source": [
    "!python scripts/stable_txt2img.py \\\n",
    " --ddim_eta 0.0 \\\n",
    " --n_samples 1 \\\n",
    " --n_iter 4 \\\n",
    " --scale 7.0 \\\n",
    " --ddim_steps 50 \\\n",
    " --ckpt \"/workspace/Dreambooth-Stable-Diffusion/trained_models/{file_name}\" \\\n",
    " --prompt \"joepenna person as a masterpiece portrait painting by John Singer Sargent in the style of Rembrandt\""
   ]
  }
 ],
 "metadata": {
  "colab": {
   "collapsed_sections": [],
   "provenance": []
  },
  "kernelspec": {
   "display_name": "Python 3 (ipykernel)",
   "language": "python",
   "name": "python3"
  },
  "language_info": {
   "codemirror_mode": {
    "name": "ipython",
    "version": 3
   },
   "file_extension": ".py",
   "mimetype": "text/x-python",
   "name": "python",
   "nbconvert_exporter": "python",
   "pygments_lexer": "ipython3",
   "version": "3.10.6"
  },
  "vscode": {
   "interpreter": {
    "hash": "b0fa6594d8f4cbf19f97940f81e996739fb7646882a419484c72d19e05852a7e"
   }
  }
 },
 "nbformat": 4,
 "nbformat_minor": 5
}
